{
 "cells": [
  {
   "cell_type": "code",
   "execution_count": 34,
   "metadata": {},
   "outputs": [],
   "source": [
    "import pandas as pd\n",
    "import numpy as np\n",
    "import spacy\n",
    "from rake_nltk import Rake\n",
    "import nltk\n",
    "from flask import jsonify\n",
    "from cnn import CelebADataset, cnn\n",
    "import torch\n",
    "import imageio as io\n",
    "from torchvision import transforms"
   ]
  },
  {
   "cell_type": "code",
   "execution_count": 28,
   "metadata": {},
   "outputs": [
    {
     "name": "stderr",
     "output_type": "stream",
     "text": [
      "[nltk_data] Downloading package stopwords to\n",
      "[nltk_data]     /Users/acabrera/nltk_data...\n",
      "[nltk_data]   Package stopwords is already up-to-date!\n",
      "[nltk_data] Downloading package punkt to /Users/acabrera/nltk_data...\n",
      "[nltk_data]   Package punkt is already up-to-date!\n"
     ]
    },
    {
     "data": {
      "text/plain": [
       "True"
      ]
     },
     "execution_count": 28,
     "metadata": {},
     "output_type": "execute_result"
    }
   ],
   "source": [
    "nltk.download('stopwords')\n",
    "nltk.download('punkt')"
   ]
  },
  {
   "cell_type": "code",
   "execution_count": 22,
   "metadata": {},
   "outputs": [
    {
     "data": {
      "text/plain": [
       "cnn(\n",
       "  (layer1): Sequential(\n",
       "    (0): Conv2d(3, 8, kernel_size=(5, 5), stride=(2, 2), padding=(2, 2))\n",
       "    (1): BatchNorm2d(8, eps=1e-05, momentum=0.1, affine=True, track_running_stats=True)\n",
       "    (2): ReLU()\n",
       "    (3): MaxPool2d(kernel_size=2, stride=2, padding=0, dilation=1, ceil_mode=False)\n",
       "  )\n",
       "  (layer2): Sequential(\n",
       "    (0): Conv2d(8, 16, kernel_size=(5, 5), stride=(2, 2), padding=(2, 2))\n",
       "    (1): BatchNorm2d(16, eps=1e-05, momentum=0.1, affine=True, track_running_stats=True)\n",
       "    (2): ReLU()\n",
       "    (3): MaxPool2d(kernel_size=2, stride=2, padding=0, dilation=1, ceil_mode=False)\n",
       "  )\n",
       "  (layer3): Sequential(\n",
       "    (0): Conv2d(16, 32, kernel_size=(5, 5), stride=(2, 2), padding=(2, 2))\n",
       "    (1): BatchNorm2d(32, eps=1e-05, momentum=0.1, affine=True, track_running_stats=True)\n",
       "    (2): ReLU()\n",
       "    (3): MaxPool2d(kernel_size=2, stride=2, padding=0, dilation=1, ceil_mode=False)\n",
       "  )\n",
       "  (fc): Linear(in_features=288, out_features=1, bias=True)\n",
       "  (final): Sigmoid()\n",
       ")"
      ]
     },
     "execution_count": 22,
     "metadata": {},
     "output_type": "execute_result"
    }
   ],
   "source": [
    "model = cnn()\n",
    "model.load_state_dict(torch.load(\"../model3epoch.ckpt\"))\n",
    "model.eval()"
   ]
  },
  {
   "cell_type": "code",
   "execution_count": 3,
   "metadata": {},
   "outputs": [],
   "source": [
    "r = Rake(max_length=5)\n",
    "nlp = spacy.load(\"en_core_web_md\")"
   ]
  },
  {
   "cell_type": "code",
   "execution_count": 6,
   "metadata": {},
   "outputs": [],
   "source": [
    "df = pd.read_csv(\"reports-glasses-v2.csv\", sep=\"|\")\n",
    "df = df.drop(\"Unnamed: 0\", axis=1)\n",
    "df = df.drop(\"Unnamed: 0.1\", axis=1)"
   ]
  },
  {
   "cell_type": "code",
   "execution_count": 7,
   "metadata": {},
   "outputs": [
    {
     "data": {
      "text/html": [
       "<div>\n",
       "<style scoped>\n",
       "    .dataframe tbody tr th:only-of-type {\n",
       "        vertical-align: middle;\n",
       "    }\n",
       "\n",
       "    .dataframe tbody tr th {\n",
       "        vertical-align: top;\n",
       "    }\n",
       "\n",
       "    .dataframe thead th {\n",
       "        text-align: right;\n",
       "    }\n",
       "</style>\n",
       "<table border=\"1\" class=\"dataframe\">\n",
       "  <thead>\n",
       "    <tr style=\"text-align: right;\">\n",
       "      <th></th>\n",
       "      <th>confidence</th>\n",
       "      <th>description</th>\n",
       "      <th>image</th>\n",
       "      <th>label</th>\n",
       "    </tr>\n",
       "  </thead>\n",
       "  <tbody>\n",
       "    <tr>\n",
       "      <td>0</td>\n",
       "      <td>1</td>\n",
       "      <td>His eye region is dark which may cause confusion.</td>\n",
       "      <td>194653</td>\n",
       "      <td>-1</td>\n",
       "    </tr>\n",
       "    <tr>\n",
       "      <td>1</td>\n",
       "      <td>2</td>\n",
       "      <td>Her face is at an angle rather than straight on.</td>\n",
       "      <td>184352</td>\n",
       "      <td>1</td>\n",
       "    </tr>\n",
       "    <tr>\n",
       "      <td>2</td>\n",
       "      <td>3</td>\n",
       "      <td>His glasses are clear and have a very thin, ba...</td>\n",
       "      <td>181108</td>\n",
       "      <td>1</td>\n",
       "    </tr>\n",
       "    <tr>\n",
       "      <td>3</td>\n",
       "      <td>4</td>\n",
       "      <td>There is very little contrast between the glas...</td>\n",
       "      <td>177130</td>\n",
       "      <td>1</td>\n",
       "    </tr>\n",
       "    <tr>\n",
       "      <td>4</td>\n",
       "      <td>3</td>\n",
       "      <td>There isn't enough light for the algorithm to ...</td>\n",
       "      <td>174902</td>\n",
       "      <td>1</td>\n",
       "    </tr>\n",
       "  </tbody>\n",
       "</table>\n",
       "</div>"
      ],
      "text/plain": [
       "   confidence                                        description   image  \\\n",
       "0           1  His eye region is dark which may cause confusion.  194653   \n",
       "1           2   Her face is at an angle rather than straight on.  184352   \n",
       "2           3  His glasses are clear and have a very thin, ba...  181108   \n",
       "3           4  There is very little contrast between the glas...  177130   \n",
       "4           3  There isn't enough light for the algorithm to ...  174902   \n",
       "\n",
       "   label  \n",
       "0     -1  \n",
       "1      1  \n",
       "2      1  \n",
       "3      1  \n",
       "4      1  "
      ]
     },
     "execution_count": 7,
     "metadata": {},
     "output_type": "execute_result"
    }
   ],
   "source": [
    "df.head()"
   ]
  },
  {
   "cell_type": "code",
   "execution_count": 8,
   "metadata": {},
   "outputs": [
    {
     "data": {
      "text/plain": [
       "228"
      ]
     },
     "execution_count": 8,
     "metadata": {},
     "output_type": "execute_result"
    }
   ],
   "source": [
    "len(df)"
   ]
  },
  {
   "cell_type": "code",
   "execution_count": 9,
   "metadata": {},
   "outputs": [],
   "source": [
    "def get_keywords(sen):\n",
    "    r.extract_keywords_from_text(sen)\n",
    "    return r.get_ranked_phrases() "
   ]
  },
  {
   "cell_type": "code",
   "execution_count": 10,
   "metadata": {},
   "outputs": [],
   "source": [
    "def get_vecs(keywords):\n",
    "    l = []\n",
    "    for w in keywords:\n",
    "        tokens = nlp(w)\n",
    "        l.append(list(tokens.vector))\n",
    "    return l "
   ]
  },
  {
   "cell_type": "code",
   "execution_count": 32,
   "metadata": {},
   "outputs": [],
   "source": [
    "def get_pred(img):\n",
    "    image = io.imread(\"../img_align_celeba/\" + str(img) + \".jpg\")\n",
    "    trans = transforms.Compose([transforms.ToTensor()])\n",
    "    image = trans(image)\n",
    "    return str(round(model(image.unsqueeze(0)).item(), 3))\n",
    "    "
   ]
  },
  {
   "cell_type": "code",
   "execution_count": 12,
   "metadata": {},
   "outputs": [],
   "source": [
    "df[\"keywords\"] = df[\"description\"].apply(get_keywords)"
   ]
  },
  {
   "cell_type": "code",
   "execution_count": 13,
   "metadata": {},
   "outputs": [],
   "source": [
    "df[\"vecs\"] = df[\"keywords\"].apply(get_vecs)"
   ]
  },
  {
   "cell_type": "code",
   "execution_count": 14,
   "metadata": {},
   "outputs": [],
   "source": [
    "df[\"vec\"] = df[\"description\"].apply(lambda x : list(nlp(x).vector))"
   ]
  },
  {
   "cell_type": "code",
   "execution_count": 35,
   "metadata": {},
   "outputs": [],
   "source": [
    "df[\"pred\"] = df[\"image\"].apply(get_pred)"
   ]
  },
  {
   "cell_type": "code",
   "execution_count": 36,
   "metadata": {},
   "outputs": [
    {
     "data": {
      "text/html": [
       "<div>\n",
       "<style scoped>\n",
       "    .dataframe tbody tr th:only-of-type {\n",
       "        vertical-align: middle;\n",
       "    }\n",
       "\n",
       "    .dataframe tbody tr th {\n",
       "        vertical-align: top;\n",
       "    }\n",
       "\n",
       "    .dataframe thead th {\n",
       "        text-align: right;\n",
       "    }\n",
       "</style>\n",
       "<table border=\"1\" class=\"dataframe\">\n",
       "  <thead>\n",
       "    <tr style=\"text-align: right;\">\n",
       "      <th></th>\n",
       "      <th>confidence</th>\n",
       "      <th>description</th>\n",
       "      <th>image</th>\n",
       "      <th>label</th>\n",
       "      <th>keywords</th>\n",
       "      <th>vecs</th>\n",
       "      <th>vec</th>\n",
       "      <th>pred</th>\n",
       "    </tr>\n",
       "  </thead>\n",
       "  <tbody>\n",
       "    <tr>\n",
       "      <td>0</td>\n",
       "      <td>1</td>\n",
       "      <td>His eye region is dark which may cause confusion.</td>\n",
       "      <td>194653</td>\n",
       "      <td>-1</td>\n",
       "      <td>[may cause confusion, eye region, dark]</td>\n",
       "      <td>[[-0.2799537, 0.13365866, -0.25872934, -0.0339...</td>\n",
       "      <td>[-0.038665097, 0.076024495, -0.08534257, -0.07...</td>\n",
       "      <td>0.694</td>\n",
       "    </tr>\n",
       "    <tr>\n",
       "      <td>1</td>\n",
       "      <td>2</td>\n",
       "      <td>Her face is at an angle rather than straight on.</td>\n",
       "      <td>184352</td>\n",
       "      <td>1</td>\n",
       "      <td>[angle rather, straight, face]</td>\n",
       "      <td>[[-0.019873999, 0.2108075, -0.25791, 0.0650215...</td>\n",
       "      <td>[-0.071306005, 0.17473164, -0.15770243, 0.1243...</td>\n",
       "      <td>0.43</td>\n",
       "    </tr>\n",
       "    <tr>\n",
       "      <td>2</td>\n",
       "      <td>3</td>\n",
       "      <td>His glasses are clear and have a very thin, ba...</td>\n",
       "      <td>181108</td>\n",
       "      <td>1</td>\n",
       "      <td>[barely visible frame, thin, glasses, clear]</td>\n",
       "      <td>[[0.12441834, -0.122789346, -0.38401666, 0.131...</td>\n",
       "      <td>[-0.04534092, 0.032248147, -0.28398114, 0.1017...</td>\n",
       "      <td>0.602</td>\n",
       "    </tr>\n",
       "    <tr>\n",
       "      <td>3</td>\n",
       "      <td>4</td>\n",
       "      <td>There is very little contrast between the glas...</td>\n",
       "      <td>177130</td>\n",
       "      <td>1</td>\n",
       "      <td>[little contrast, glasses, face]</td>\n",
       "      <td>[[-0.325835, 0.33699, -0.25858998, 0.084259994...</td>\n",
       "      <td>[-0.06288666, 0.05702166, -0.19873732, -0.0624...</td>\n",
       "      <td>0.995</td>\n",
       "    </tr>\n",
       "    <tr>\n",
       "      <td>4</td>\n",
       "      <td>3</td>\n",
       "      <td>There isn't enough light for the algorithm to ...</td>\n",
       "      <td>174902</td>\n",
       "      <td>1</td>\n",
       "      <td>[enough light, glasses, detect, algorithm]</td>\n",
       "      <td>[[-0.12063425, 0.241955, 0.0317, 0.166229, -0....</td>\n",
       "      <td>[-0.008412112, 0.14015076, -0.14917213, -0.089...</td>\n",
       "      <td>0.894</td>\n",
       "    </tr>\n",
       "  </tbody>\n",
       "</table>\n",
       "</div>"
      ],
      "text/plain": [
       "   confidence                                        description   image  \\\n",
       "0           1  His eye region is dark which may cause confusion.  194653   \n",
       "1           2   Her face is at an angle rather than straight on.  184352   \n",
       "2           3  His glasses are clear and have a very thin, ba...  181108   \n",
       "3           4  There is very little contrast between the glas...  177130   \n",
       "4           3  There isn't enough light for the algorithm to ...  174902   \n",
       "\n",
       "   label                                      keywords  \\\n",
       "0     -1       [may cause confusion, eye region, dark]   \n",
       "1      1                [angle rather, straight, face]   \n",
       "2      1  [barely visible frame, thin, glasses, clear]   \n",
       "3      1              [little contrast, glasses, face]   \n",
       "4      1    [enough light, glasses, detect, algorithm]   \n",
       "\n",
       "                                                vecs  \\\n",
       "0  [[-0.2799537, 0.13365866, -0.25872934, -0.0339...   \n",
       "1  [[-0.019873999, 0.2108075, -0.25791, 0.0650215...   \n",
       "2  [[0.12441834, -0.122789346, -0.38401666, 0.131...   \n",
       "3  [[-0.325835, 0.33699, -0.25858998, 0.084259994...   \n",
       "4  [[-0.12063425, 0.241955, 0.0317, 0.166229, -0....   \n",
       "\n",
       "                                                 vec   pred  \n",
       "0  [-0.038665097, 0.076024495, -0.08534257, -0.07...  0.694  \n",
       "1  [-0.071306005, 0.17473164, -0.15770243, 0.1243...   0.43  \n",
       "2  [-0.04534092, 0.032248147, -0.28398114, 0.1017...  0.602  \n",
       "3  [-0.06288666, 0.05702166, -0.19873732, -0.0624...  0.995  \n",
       "4  [-0.008412112, 0.14015076, -0.14917213, -0.089...  0.894  "
      ]
     },
     "execution_count": 36,
     "metadata": {},
     "output_type": "execute_result"
    }
   ],
   "source": [
    "df.head()"
   ]
  },
  {
   "cell_type": "code",
   "execution_count": 37,
   "metadata": {},
   "outputs": [],
   "source": [
    "df.to_csv(\"../client/public/data.csv\", sep=\"|\")"
   ]
  },
  {
   "cell_type": "code",
   "execution_count": null,
   "metadata": {},
   "outputs": [],
   "source": []
  }
 ],
 "metadata": {
  "kernelspec": {
   "display_name": "Python 3",
   "language": "python",
   "name": "python3"
  },
  "language_info": {
   "codemirror_mode": {
    "name": "ipython",
    "version": 3
   },
   "file_extension": ".py",
   "mimetype": "text/x-python",
   "name": "python",
   "nbconvert_exporter": "python",
   "pygments_lexer": "ipython3",
   "version": "3.7.4"
  }
 },
 "nbformat": 4,
 "nbformat_minor": 4
}
