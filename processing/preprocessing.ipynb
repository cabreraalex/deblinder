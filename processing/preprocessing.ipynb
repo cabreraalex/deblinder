{
 "cells": [
  {
   "cell_type": "code",
   "execution_count": 1,
   "metadata": {},
   "outputs": [],
   "source": [
    "import pandas as pd\n",
    "import numpy as np\n",
    "import spacy\n",
    "from rake_nltk import Rake\n",
    "import nltk\n",
    "from flask import jsonify\n",
    "from cnn import CelebADataset, cnn\n",
    "import torch\n",
    "import imageio as io\n",
    "from torchvision import transforms"
   ]
  },
  {
   "cell_type": "code",
   "execution_count": 2,
   "metadata": {},
   "outputs": [
    {
     "name": "stderr",
     "output_type": "stream",
     "text": [
      "[nltk_data] Downloading package stopwords to\n",
      "[nltk_data]     /Users/acabrera/nltk_data...\n",
      "[nltk_data]   Unzipping corpora/stopwords.zip.\n",
      "[nltk_data] Downloading package punkt to /Users/acabrera/nltk_data...\n",
      "[nltk_data]   Unzipping tokenizers/punkt.zip.\n"
     ]
    },
    {
     "data": {
      "text/plain": [
       "True"
      ]
     },
     "execution_count": 2,
     "metadata": {},
     "output_type": "execute_result"
    }
   ],
   "source": [
    "nltk.download('stopwords')\n",
    "nltk.download('punkt')"
   ]
  },
  {
   "cell_type": "code",
   "execution_count": 3,
   "metadata": {},
   "outputs": [
    {
     "data": {
      "text/plain": [
       "cnn(\n",
       "  (layer1): Sequential(\n",
       "    (0): Conv2d(3, 8, kernel_size=(5, 5), stride=(2, 2), padding=(2, 2))\n",
       "    (1): BatchNorm2d(8, eps=1e-05, momentum=0.1, affine=True, track_running_stats=True)\n",
       "    (2): ReLU()\n",
       "    (3): MaxPool2d(kernel_size=2, stride=2, padding=0, dilation=1, ceil_mode=False)\n",
       "  )\n",
       "  (layer2): Sequential(\n",
       "    (0): Conv2d(8, 16, kernel_size=(5, 5), stride=(2, 2), padding=(2, 2))\n",
       "    (1): BatchNorm2d(16, eps=1e-05, momentum=0.1, affine=True, track_running_stats=True)\n",
       "    (2): ReLU()\n",
       "    (3): MaxPool2d(kernel_size=2, stride=2, padding=0, dilation=1, ceil_mode=False)\n",
       "  )\n",
       "  (layer3): Sequential(\n",
       "    (0): Conv2d(16, 32, kernel_size=(5, 5), stride=(2, 2), padding=(2, 2))\n",
       "    (1): BatchNorm2d(32, eps=1e-05, momentum=0.1, affine=True, track_running_stats=True)\n",
       "    (2): ReLU()\n",
       "    (3): MaxPool2d(kernel_size=2, stride=2, padding=0, dilation=1, ceil_mode=False)\n",
       "  )\n",
       "  (fc): Linear(in_features=288, out_features=1, bias=True)\n",
       "  (final): Sigmoid()\n",
       ")"
      ]
     },
     "execution_count": 3,
     "metadata": {},
     "output_type": "execute_result"
    }
   ],
   "source": [
    "model = cnn()\n",
    "model.load_state_dict(torch.load(\"../model3epoch.ckpt\"))\n",
    "model.eval()"
   ]
  },
  {
   "cell_type": "code",
   "execution_count": 4,
   "metadata": {},
   "outputs": [],
   "source": [
    "r = Rake(max_length=5)\n",
    "nlp = spacy.load(\"en_core_web_md\")"
   ]
  },
  {
   "cell_type": "code",
   "execution_count": 5,
   "metadata": {},
   "outputs": [
    {
     "data": {
      "text/html": [
       "<div>\n",
       "<style scoped>\n",
       "    .dataframe tbody tr th:only-of-type {\n",
       "        vertical-align: middle;\n",
       "    }\n",
       "\n",
       "    .dataframe tbody tr th {\n",
       "        vertical-align: top;\n",
       "    }\n",
       "\n",
       "    .dataframe thead th {\n",
       "        text-align: right;\n",
       "    }\n",
       "</style>\n",
       "<table border=\"1\" class=\"dataframe\">\n",
       "  <thead>\n",
       "    <tr style=\"text-align: right;\">\n",
       "      <th></th>\n",
       "      <th>Unnamed: 0</th>\n",
       "      <th>index</th>\n",
       "      <th>image</th>\n",
       "      <th>description</th>\n",
       "      <th>confidence</th>\n",
       "      <th>label</th>\n",
       "      <th>pred</th>\n",
       "    </tr>\n",
       "  </thead>\n",
       "  <tbody>\n",
       "    <tr>\n",
       "      <td>0</td>\n",
       "      <td>0</td>\n",
       "      <td>1</td>\n",
       "      <td>191326</td>\n",
       "      <td>the glasses do not have frames</td>\n",
       "      <td>0</td>\n",
       "      <td>1</td>\n",
       "      <td>-1</td>\n",
       "    </tr>\n",
       "    <tr>\n",
       "      <td>1</td>\n",
       "      <td>1</td>\n",
       "      <td>2</td>\n",
       "      <td>181854</td>\n",
       "      <td>The helmet is obscuring the face</td>\n",
       "      <td>1</td>\n",
       "      <td>1</td>\n",
       "      <td>-1</td>\n",
       "    </tr>\n",
       "    <tr>\n",
       "      <td>2</td>\n",
       "      <td>2</td>\n",
       "      <td>4</td>\n",
       "      <td>166401</td>\n",
       "      <td>Maybe the color of the glasses caused it to fail.</td>\n",
       "      <td>3</td>\n",
       "      <td>1</td>\n",
       "      <td>-1</td>\n",
       "    </tr>\n",
       "    <tr>\n",
       "      <td>3</td>\n",
       "      <td>3</td>\n",
       "      <td>5</td>\n",
       "      <td>177531</td>\n",
       "      <td>Probably because the rim of the glasses are so...</td>\n",
       "      <td>4</td>\n",
       "      <td>1</td>\n",
       "      <td>-1</td>\n",
       "    </tr>\n",
       "    <tr>\n",
       "      <td>4</td>\n",
       "      <td>4</td>\n",
       "      <td>9</td>\n",
       "      <td>173924</td>\n",
       "      <td>they can't see the front image of the face.</td>\n",
       "      <td>3</td>\n",
       "      <td>1</td>\n",
       "      <td>-1</td>\n",
       "    </tr>\n",
       "  </tbody>\n",
       "</table>\n",
       "</div>"
      ],
      "text/plain": [
       "   Unnamed: 0  index   image  \\\n",
       "0           0      1  191326   \n",
       "1           1      2  181854   \n",
       "2           2      4  166401   \n",
       "3           3      5  177531   \n",
       "4           4      9  173924   \n",
       "\n",
       "                                         description  confidence  label  pred  \n",
       "0                     the glasses do not have frames           0      1    -1  \n",
       "1                   The helmet is obscuring the face           1      1    -1  \n",
       "2  Maybe the color of the glasses caused it to fail.           3      1    -1  \n",
       "3  Probably because the rim of the glasses are so...           4      1    -1  \n",
       "4        they can't see the front image of the face.           3      1    -1  "
      ]
     },
     "execution_count": 5,
     "metadata": {},
     "output_type": "execute_result"
    }
   ],
   "source": [
    "df = pd.read_csv(\"reports-glasses-v3.csv\", sep=\"|\")\n",
    "df.head()"
   ]
  },
  {
   "cell_type": "code",
   "execution_count": 6,
   "metadata": {},
   "outputs": [],
   "source": [
    "df = df.drop(\"Unnamed: 0\", axis=1)"
   ]
  },
  {
   "cell_type": "code",
   "execution_count": 7,
   "metadata": {},
   "outputs": [
    {
     "data": {
      "text/plain": [
       "163"
      ]
     },
     "execution_count": 7,
     "metadata": {},
     "output_type": "execute_result"
    }
   ],
   "source": [
    "len(df)"
   ]
  },
  {
   "cell_type": "code",
   "execution_count": 8,
   "metadata": {},
   "outputs": [],
   "source": [
    "def get_keywords(sen):\n",
    "    r.extract_keywords_from_text(sen)\n",
    "    return r.get_ranked_phrases() "
   ]
  },
  {
   "cell_type": "code",
   "execution_count": 9,
   "metadata": {},
   "outputs": [],
   "source": [
    "def get_vecs(keywords):\n",
    "    l = []\n",
    "    for w in keywords:\n",
    "        tokens = nlp(w)\n",
    "        l.append(list(tokens.vector))\n",
    "    return l "
   ]
  },
  {
   "cell_type": "code",
   "execution_count": 15,
   "metadata": {},
   "outputs": [],
   "source": [
    "def get_pred(img):\n",
    "    image = io.imread(\"../../img_align_celeba/\" + str(img) + \".jpg\")\n",
    "    trans = transforms.Compose([transforms.ToTensor()])\n",
    "    image = trans(image)\n",
    "    return str(round(model(image.unsqueeze(0)).item(), 3))\n",
    "    "
   ]
  },
  {
   "cell_type": "code",
   "execution_count": 16,
   "metadata": {},
   "outputs": [],
   "source": [
    "df[\"keywords\"] = df[\"description\"].apply(get_keywords)"
   ]
  },
  {
   "cell_type": "code",
   "execution_count": 17,
   "metadata": {},
   "outputs": [],
   "source": [
    "df[\"vecs\"] = df[\"keywords\"].apply(get_vecs)"
   ]
  },
  {
   "cell_type": "code",
   "execution_count": 18,
   "metadata": {},
   "outputs": [],
   "source": [
    "df[\"vec\"] = df[\"description\"].apply(lambda x : list(nlp(x).vector))"
   ]
  },
  {
   "cell_type": "code",
   "execution_count": 19,
   "metadata": {},
   "outputs": [],
   "source": [
    "df[\"pred\"] = df[\"image\"].apply(get_pred)"
   ]
  },
  {
   "cell_type": "code",
   "execution_count": 20,
   "metadata": {},
   "outputs": [
    {
     "data": {
      "text/html": [
       "<div>\n",
       "<style scoped>\n",
       "    .dataframe tbody tr th:only-of-type {\n",
       "        vertical-align: middle;\n",
       "    }\n",
       "\n",
       "    .dataframe tbody tr th {\n",
       "        vertical-align: top;\n",
       "    }\n",
       "\n",
       "    .dataframe thead th {\n",
       "        text-align: right;\n",
       "    }\n",
       "</style>\n",
       "<table border=\"1\" class=\"dataframe\">\n",
       "  <thead>\n",
       "    <tr style=\"text-align: right;\">\n",
       "      <th></th>\n",
       "      <th>index</th>\n",
       "      <th>image</th>\n",
       "      <th>description</th>\n",
       "      <th>confidence</th>\n",
       "      <th>label</th>\n",
       "      <th>pred</th>\n",
       "      <th>keywords</th>\n",
       "      <th>vecs</th>\n",
       "      <th>vec</th>\n",
       "    </tr>\n",
       "  </thead>\n",
       "  <tbody>\n",
       "    <tr>\n",
       "      <td>0</td>\n",
       "      <td>1</td>\n",
       "      <td>191326</td>\n",
       "      <td>the glasses do not have frames</td>\n",
       "      <td>0</td>\n",
       "      <td>1</td>\n",
       "      <td>0.041</td>\n",
       "      <td>[glasses, frames]</td>\n",
       "      <td>[[-0.25882, -0.99271, -0.21225, -0.2585, -0.30...</td>\n",
       "      <td>[0.05178317, -0.18900181, -0.43239498, -0.2266...</td>\n",
       "    </tr>\n",
       "    <tr>\n",
       "      <td>1</td>\n",
       "      <td>2</td>\n",
       "      <td>181854</td>\n",
       "      <td>The helmet is obscuring the face</td>\n",
       "      <td>1</td>\n",
       "      <td>1</td>\n",
       "      <td>0.032</td>\n",
       "      <td>[obscuring, helmet, face]</td>\n",
       "      <td>[[-0.476, -0.25002, -0.078249, 0.17018, -0.158...</td>\n",
       "      <td>[0.060249835, -0.17829168, -0.1702378, 0.05297...</td>\n",
       "    </tr>\n",
       "    <tr>\n",
       "      <td>2</td>\n",
       "      <td>4</td>\n",
       "      <td>166401</td>\n",
       "      <td>Maybe the color of the glasses caused it to fail.</td>\n",
       "      <td>3</td>\n",
       "      <td>1</td>\n",
       "      <td>0.015</td>\n",
       "      <td>[glasses caused, maybe, fail, color]</td>\n",
       "      <td>[[-0.34338498, -0.36056, -0.291215, -0.1524235...</td>\n",
       "      <td>[-0.03408092, 0.06473809, -0.17509338, -0.1664...</td>\n",
       "    </tr>\n",
       "    <tr>\n",
       "      <td>3</td>\n",
       "      <td>5</td>\n",
       "      <td>177531</td>\n",
       "      <td>Probably because the rim of the glasses are so...</td>\n",
       "      <td>4</td>\n",
       "      <td>1</td>\n",
       "      <td>0.132</td>\n",
       "      <td>[looks liek, wearing, thin, rim, probably, gla...</td>\n",
       "      <td>[[-0.083631, -0.033243, 0.0559185, -0.5001625,...</td>\n",
       "      <td>[-0.0041016345, 0.04782558, -0.17182252, -0.16...</td>\n",
       "    </tr>\n",
       "    <tr>\n",
       "      <td>4</td>\n",
       "      <td>9</td>\n",
       "      <td>173924</td>\n",
       "      <td>they can't see the front image of the face.</td>\n",
       "      <td>3</td>\n",
       "      <td>1</td>\n",
       "      <td>0.137</td>\n",
       "      <td>[front image, see, face]</td>\n",
       "      <td>[[0.080575004, -0.062069997, -0.090965, -0.190...</td>\n",
       "      <td>[0.0075879116, 0.057661, -0.19230819, -0.14730...</td>\n",
       "    </tr>\n",
       "  </tbody>\n",
       "</table>\n",
       "</div>"
      ],
      "text/plain": [
       "   index   image                                        description  \\\n",
       "0      1  191326                     the glasses do not have frames   \n",
       "1      2  181854                   The helmet is obscuring the face   \n",
       "2      4  166401  Maybe the color of the glasses caused it to fail.   \n",
       "3      5  177531  Probably because the rim of the glasses are so...   \n",
       "4      9  173924        they can't see the front image of the face.   \n",
       "\n",
       "   confidence  label   pred  \\\n",
       "0           0      1  0.041   \n",
       "1           1      1  0.032   \n",
       "2           3      1  0.015   \n",
       "3           4      1  0.132   \n",
       "4           3      1  0.137   \n",
       "\n",
       "                                            keywords  \\\n",
       "0                                  [glasses, frames]   \n",
       "1                          [obscuring, helmet, face]   \n",
       "2               [glasses caused, maybe, fail, color]   \n",
       "3  [looks liek, wearing, thin, rim, probably, gla...   \n",
       "4                           [front image, see, face]   \n",
       "\n",
       "                                                vecs  \\\n",
       "0  [[-0.25882, -0.99271, -0.21225, -0.2585, -0.30...   \n",
       "1  [[-0.476, -0.25002, -0.078249, 0.17018, -0.158...   \n",
       "2  [[-0.34338498, -0.36056, -0.291215, -0.1524235...   \n",
       "3  [[-0.083631, -0.033243, 0.0559185, -0.5001625,...   \n",
       "4  [[0.080575004, -0.062069997, -0.090965, -0.190...   \n",
       "\n",
       "                                                 vec  \n",
       "0  [0.05178317, -0.18900181, -0.43239498, -0.2266...  \n",
       "1  [0.060249835, -0.17829168, -0.1702378, 0.05297...  \n",
       "2  [-0.03408092, 0.06473809, -0.17509338, -0.1664...  \n",
       "3  [-0.0041016345, 0.04782558, -0.17182252, -0.16...  \n",
       "4  [0.0075879116, 0.057661, -0.19230819, -0.14730...  "
      ]
     },
     "execution_count": 20,
     "metadata": {},
     "output_type": "execute_result"
    }
   ],
   "source": [
    "df.head()"
   ]
  },
  {
   "cell_type": "code",
   "execution_count": 21,
   "metadata": {},
   "outputs": [],
   "source": [
    "df.to_csv(\"../client/public/data.csv\", sep=\"|\")"
   ]
  }
 ],
 "metadata": {
  "kernelspec": {
   "display_name": "Python 3",
   "language": "python",
   "name": "python3"
  },
  "language_info": {
   "codemirror_mode": {
    "name": "ipython",
    "version": 3
   },
   "file_extension": ".py",
   "mimetype": "text/x-python",
   "name": "python",
   "nbconvert_exporter": "python",
   "pygments_lexer": "ipython3",
   "version": "3.7.4"
  }
 },
 "nbformat": 4,
 "nbformat_minor": 4
}
